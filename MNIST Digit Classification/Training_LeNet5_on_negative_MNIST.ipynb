{
 "cells": [
  {
   "cell_type": "code",
   "execution_count": 40,
   "metadata": {
    "ExecuteTime": {
     "end_time": "2019-04-08T03:53:31.807243Z",
     "start_time": "2019-04-08T03:53:31.797134Z"
    }
   },
   "outputs": [],
   "source": [
    "#import Libraries\n",
    "import torch\n",
    "import torchvision\n",
    "import torchvision.transforms as transforms\n",
    "import torch.nn as nn\n",
    "import torch.nn.functional as f\n",
    "import torch.optim as optim\n",
    "from torch.autograd import Variable\n",
    "import matplotlib.pyplot as plt\n",
    "import numpy as np\n",
    "%matplotlib inline \n",
    "from torch.utils.data.dataset import Dataset"
   ]
  },
  {
   "cell_type": "markdown",
   "metadata": {},
   "source": [
    "### Initialize Parameters"
   ]
  },
  {
   "cell_type": "code",
   "execution_count": null,
   "metadata": {},
   "outputs": [],
   "source": [
    "lr = 0.001\n",
    "num_epochs = 25\n",
    "batch_size = 128"
   ]
  },
  {
   "cell_type": "markdown",
   "metadata": {},
   "source": [
    "#### torchvision is a package created for operating on images. It has data loaders for various common datasets such as CIFAR10, MNIST,etc. along with data transformers for images viz, torchvision.datasets and torch.utils.data.Dataloader\n",
    "\n",
    "#### Output of torchvision datasets are PIL images of range [0,1]. So, we need to convert them in to tensors of normalized range [-1,1]"
   ]
  },
  {
   "cell_type": "code",
   "execution_count": 41,
   "metadata": {
    "ExecuteTime": {
     "end_time": "2019-04-08T03:53:34.146369Z",
     "start_time": "2019-04-08T03:53:34.101473Z"
    }
   },
   "outputs": [],
   "source": [
    "transform = transforms.Compose([transforms.ToTensor(), transforms.Normalize((0.5,),(0.5,))])\n",
    "\n",
    "trainset = torchvision.datasets.MNIST(root='./data', train=True, download=True, transform=transform)\n",
    "\n",
    "trainloader = torch.utils.data.DataLoader(trainset, batch_size = batch_size, shuffle=True, num_workers=1)\n",
    "\n",
    "testset = torchvision.datasets.MNIST(root='./data', train=False, download=True, transform=transform)\n",
    "\n",
    "testloader = torch.utils.data.DataLoader(testset, batch_size = batch_size, shuffle=True, num_workers=1)\n",
    "\n",
    "classes = tuple(trainset.classes)"
   ]
  },
  {
   "cell_type": "markdown",
   "metadata": {},
   "source": [
    "### Define network"
   ]
  },
  {
   "cell_type": "code",
   "execution_count": 52,
   "metadata": {
    "ExecuteTime": {
     "end_time": "2019-04-08T05:15:11.413980Z",
     "start_time": "2019-04-08T05:15:11.399366Z"
    }
   },
   "outputs": [
    {
     "name": "stdout",
     "output_type": "stream",
     "text": [
      "LeNet(\n",
      "  (conv1): Conv2d(1, 6, kernel_size=(5, 5), stride=(1, 1))\n",
      "  (conv1_bn): BatchNorm2d(6, eps=1e-05, momentum=0.1, affine=True, track_running_stats=True)\n",
      "  (pool): MaxPool2d(kernel_size=2, stride=2, padding=0, dilation=1, ceil_mode=False)\n",
      "  (conv2): Conv2d(6, 16, kernel_size=(5, 5), stride=(1, 1))\n",
      "  (conv2_bn): BatchNorm2d(16, eps=1e-05, momentum=0.1, affine=True, track_running_stats=True)\n",
      "  (fc1): Linear(in_features=256, out_features=120, bias=True)\n",
      "  (fc1_bn): BatchNorm1d(120, eps=1e-05, momentum=0.1, affine=True, track_running_stats=True)\n",
      "  (fc2): Linear(in_features=120, out_features=80, bias=True)\n",
      "  (fc2_bn): BatchNorm1d(80, eps=1e-05, momentum=0.1, affine=True, track_running_stats=True)\n",
      "  (fc3): Linear(in_features=80, out_features=10, bias=True)\n",
      ")\n"
     ]
    }
   ],
   "source": [
    "class LeNet(nn.Module):\n",
    "    def __init__(self):\n",
    "        super(LeNet, self).__init__()\n",
    "\n",
    "        #1 input image channel, 6 output channels, 5x5 square convolution kernel\n",
    "        self.conv1 = nn.Conv2d(1,6,5)\n",
    "        self.conv1_bn = nn.BatchNorm2d(6)\n",
    "        self.pool = nn.MaxPool2d(2,2)\n",
    "        self.conv2 = nn.Conv2d(6,16,5)\n",
    "        self.conv2_bn = nn.BatchNorm2d(16)\n",
    "        self.fc1 = nn.Linear(16*4*4,120)\n",
    "        self.fc1_bn = nn.BatchNorm1d(120)\n",
    "        self.fc2 = nn.Linear(120,80)\n",
    "        self.fc2_bn = nn.BatchNorm1d(80)\n",
    "        self.fc3 = nn.Linear(80,10)\n",
    "    \n",
    "    def forward(self,x):\n",
    "        x = self.pool(self.conv1_bn(f.relu(self.conv1(x))))\n",
    "        x = self.pool(self.conv2_bn(f.relu(self.conv2(x))))\n",
    "        \n",
    "        # If the size is a square you can only specify a single number\n",
    "        x = x.view(-1,16*4*4)\n",
    "        \n",
    "        x = self.fc1_bn(f.relu(self.fc1(x)))\n",
    "        x = self.fc2_bn(f.relu(self.fc2(x)))\n",
    "        x = self.fc3(x)\n",
    "        return f.softmax(x)\n",
    "\n",
    "net = LeNet()\n",
    "print(net)"
   ]
  },
  {
   "cell_type": "markdown",
   "metadata": {},
   "source": [
    "### Initialize Weights"
   ]
  },
  {
   "cell_type": "code",
   "execution_count": 53,
   "metadata": {
    "ExecuteTime": {
     "end_time": "2019-04-08T05:15:15.437797Z",
     "start_time": "2019-04-08T05:15:15.428690Z"
    }
   },
   "outputs": [
    {
     "data": {
      "text/plain": [
       "LeNet(\n",
       "  (conv1): Conv2d(1, 6, kernel_size=(5, 5), stride=(1, 1))\n",
       "  (conv1_bn): BatchNorm2d(6, eps=1e-05, momentum=0.1, affine=True, track_running_stats=True)\n",
       "  (pool): MaxPool2d(kernel_size=2, stride=2, padding=0, dilation=1, ceil_mode=False)\n",
       "  (conv2): Conv2d(6, 16, kernel_size=(5, 5), stride=(1, 1))\n",
       "  (conv2_bn): BatchNorm2d(16, eps=1e-05, momentum=0.1, affine=True, track_running_stats=True)\n",
       "  (fc1): Linear(in_features=256, out_features=120, bias=True)\n",
       "  (fc1_bn): BatchNorm1d(120, eps=1e-05, momentum=0.1, affine=True, track_running_stats=True)\n",
       "  (fc2): Linear(in_features=120, out_features=80, bias=True)\n",
       "  (fc2_bn): BatchNorm1d(80, eps=1e-05, momentum=0.1, affine=True, track_running_stats=True)\n",
       "  (fc3): Linear(in_features=80, out_features=10, bias=True)\n",
       ")"
      ]
     },
     "execution_count": 53,
     "metadata": {},
     "output_type": "execute_result"
    }
   ],
   "source": [
    "def init_weights(m):\n",
    "    if isinstance(m, nn.Conv2d):\n",
    "        nn.init.xavier_uniform_(m.weight)\n",
    "        if m.bias is not None:\n",
    "            nn.init.zeros_(m.bias)\n",
    "\n",
    "net.apply(init_weights)"
   ]
  },
  {
   "cell_type": "markdown",
   "metadata": {},
   "source": [
    "### Define loss function and optimizer"
   ]
  },
  {
   "cell_type": "code",
   "execution_count": 45,
   "metadata": {
    "ExecuteTime": {
     "end_time": "2019-04-08T03:54:10.862940Z",
     "start_time": "2019-04-08T03:54:10.857954Z"
    }
   },
   "outputs": [],
   "source": [
    "criterion = nn.CrossEntropyLoss()\n",
    "optimizer = optim.Adam(net.parameters(), lr)\n",
    "if torch.cuda.is_available():\n",
    "    criterion = criterion.cuda()"
   ]
  },
  {
   "cell_type": "markdown",
   "metadata": {},
   "source": [
    "### Training the network"
   ]
  },
  {
   "cell_type": "code",
   "execution_count": 47,
   "metadata": {
    "ExecuteTime": {
     "end_time": "2019-04-08T04:06:18.007672Z",
     "start_time": "2019-04-08T03:54:16.974044Z"
    }
   },
   "outputs": [
    {
     "name": "stderr",
     "output_type": "stream",
     "text": [
      "C:\\Anaconda3\\envs\\rnn\\lib\\site-packages\\ipykernel_launcher.py:27: UserWarning: Implicit dimension choice for softmax has been deprecated. Change the call to include dim=X as an argument.\n"
     ]
    },
    {
     "name": "stdout",
     "output_type": "stream",
     "text": [
      "Epoch [1/25], Train Accuracy: 86.03%,  Test Accuracy: 98.22%\n",
      "Epoch [2/25], Train Accuracy: 94.97%,  Test Accuracy: 98.55%\n",
      "Epoch [3/25], Train Accuracy: 97.05%,  Test Accuracy: 98.74%\n",
      "Epoch [4/25], Train Accuracy: 97.47%,  Test Accuracy: 98.68%\n",
      "Epoch [5/25], Train Accuracy: 98.19%,  Test Accuracy: 98.73%\n",
      "Epoch [6/25], Train Accuracy: 98.32%,  Test Accuracy: 98.78%\n",
      "Epoch [7/25], Train Accuracy: 98.38%,  Test Accuracy: 98.82%\n",
      "Epoch [8/25], Train Accuracy: 98.79%,  Test Accuracy: 98.74%\n",
      "Epoch [9/25], Train Accuracy: 98.69%,  Test Accuracy: 98.87%\n",
      "Epoch [10/25], Train Accuracy: 98.67%,  Test Accuracy: 98.92%\n",
      "Epoch [11/25], Train Accuracy: 98.79%,  Test Accuracy: 98.72%\n",
      "Epoch [12/25], Train Accuracy: 99.04%,  Test Accuracy: 98.85%\n",
      "Epoch [13/25], Train Accuracy: 99.06%,  Test Accuracy: 98.93%\n",
      "Epoch [14/25], Train Accuracy: 99.03%,  Test Accuracy: 98.78%\n",
      "Epoch [15/25], Train Accuracy: 99.15%,  Test Accuracy: 98.89%\n",
      "Epoch [16/25], Train Accuracy: 99.32%,  Test Accuracy: 98.79%\n",
      "Epoch [17/25], Train Accuracy: 99.33%,  Test Accuracy: 99.05%\n",
      "Epoch [18/25], Train Accuracy: 99.22%,  Test Accuracy: 98.75%\n",
      "Epoch [19/25], Train Accuracy: 99.20%,  Test Accuracy: 98.98%\n",
      "Epoch [20/25], Train Accuracy: 99.42%,  Test Accuracy: 98.98%\n",
      "Epoch [21/25], Train Accuracy: 99.32%,  Test Accuracy: 98.96%\n",
      "Epoch [22/25], Train Accuracy: 99.26%,  Test Accuracy: 98.67%\n",
      "Epoch [23/25], Train Accuracy: 99.32%,  Test Accuracy: 98.89%\n",
      "Epoch [24/25], Train Accuracy: 99.30%,  Test Accuracy: 98.77%\n",
      "Epoch [25/25], Train Accuracy: 99.37%,  Test Accuracy: 99.01%\n"
     ]
    }
   ],
   "source": [
    "train_acc = []\n",
    "test_acc = []\n",
    "for epoch in range(num_epochs):\n",
    "    net = net.cuda()\n",
    "    for i,  (inputs, labels) in enumerate(trainloader):\n",
    "        \n",
    "        optimizer.zero_grad()\n",
    "        \n",
    "        if i*labels.size(0) <= len(trainset)//2:\n",
    "            if torch.cuda.is_available():\n",
    "                inputs, labels = inputs.cuda(),labels.cuda()\n",
    "            outputs = net(inputs)\n",
    "        else:\n",
    "            new_images = torch.empty(inputs.shape)\n",
    "            for i,img in enumerate(inputs):\n",
    "                new_images[i] = 1 - img\n",
    "            if torch.cuda.is_available():\n",
    "                labels = labels.cuda()\n",
    "                new_images = new_images.cuda()\n",
    "            outputs = net(new_images)\n",
    "        \n",
    "        loss = criterion(outputs, labels)\n",
    "        loss.backward()\n",
    "        optimizer.step()\n",
    "    \n",
    "    train_correct = 0\n",
    "    train_total = 0\n",
    "    net = net.cpu()\n",
    "    with torch.no_grad():\n",
    "        for i, (images, labels) in enumerate(trainloader):\n",
    "            \n",
    "            if i*labels.size(0) <= len(trainset)//2:\n",
    "                outputs = net(images)\n",
    "            else:\n",
    "                new_images = torch.empty(images.shape)\n",
    "                for i,img in enumerate(images):\n",
    "                    new_images[i] = 1 - img\n",
    "                outputs = net(new_images)\n",
    "            \n",
    "            _, predicted = torch.max(outputs.data, 1)\n",
    "            train_total += labels.size(0)\n",
    "            train_correct += (predicted == labels).sum().item()\n",
    "            \n",
    "    train_accuracy = (100*train_correct)/(train_total)\n",
    "    train_acc.append(train_accuracy)\n",
    "    \n",
    "    correct = 0\n",
    "    total = 0\n",
    "    net = net.cpu()\n",
    "    with torch.no_grad():\n",
    "        for (images, labels) in testloader:\n",
    "            \n",
    "            if i*labels.size(0) <= len(testset)//2:\n",
    "                outputs = net(images)\n",
    "            else:\n",
    "                new_images = torch.empty(images.shape)\n",
    "                for i,img in enumerate(images):\n",
    "                    new_images[i] = 1 - img\n",
    "                outputs = net(new_images)\n",
    "                \n",
    "            _, predicted = torch.max(outputs.data, 1)\n",
    "            total += labels.size(0)\n",
    "            correct += (predicted == labels).sum().item()\n",
    "\n",
    "    test_accuracy = (100*correct)/(total)\n",
    "    test_acc.append(test_accuracy)\n",
    "    \n",
    "    print(f\"Epoch [{epoch + 1}/{num_epochs}], Train Accuracy: {train_accuracy:.2f}%,  Test Accuracy: {test_accuracy:.2f}%\")    "
   ]
  },
  {
   "cell_type": "markdown",
   "metadata": {},
   "source": [
    "### Evaluate  network on test data"
   ]
  },
  {
   "cell_type": "code",
   "execution_count": 48,
   "metadata": {
    "ExecuteTime": {
     "end_time": "2019-04-08T04:06:20.692020Z",
     "start_time": "2019-04-08T04:06:18.155278Z"
    }
   },
   "outputs": [
    {
     "name": "stderr",
     "output_type": "stream",
     "text": [
      "C:\\Anaconda3\\envs\\rnn\\lib\\site-packages\\ipykernel_launcher.py:27: UserWarning: Implicit dimension choice for softmax has been deprecated. Change the call to include dim=X as an argument.\n"
     ]
    },
    {
     "name": "stdout",
     "output_type": "stream",
     "text": [
      "Final Accuracy of the network on test images is: 98.79%\n"
     ]
    }
   ],
   "source": [
    "correct = 0\n",
    "total = 0\n",
    "net = net.cpu()\n",
    "with torch.no_grad():\n",
    "    for (images, labels) in testloader:\n",
    "        outputs = net(images)\n",
    "        _, predicted = torch.max(outputs.data, 1)\n",
    "        total += labels.size(0)\n",
    "        correct += (predicted == labels).sum().item()\n",
    "\n",
    "print(f'Final Accuracy of the network on test images is: {(correct/total)*100:.2f}%')"
   ]
  },
  {
   "cell_type": "markdown",
   "metadata": {},
   "source": [
    "### Epoch-Accuracy Plot"
   ]
  },
  {
   "cell_type": "code",
   "execution_count": 49,
   "metadata": {
    "ExecuteTime": {
     "end_time": "2019-04-08T04:06:20.964284Z",
     "start_time": "2019-04-08T04:06:20.833615Z"
    }
   },
   "outputs": [
    {
     "data": {
      "image/png": "[encoded data removed]",
      "text/plain": [
       "<Figure size 432x288 with 1 Axes>"
      ]
     },
     "metadata": {
      "needs_background": "light"
     },
     "output_type": "display_data"
    }
   ],
   "source": [
    "plt.plot(test_acc, color='green', label='Test Accuracy')\n",
    "plt.plot(train_acc, color='blue', label='Train Accuracy')\n",
    "plt.legend(loc='lower right', shadow=True, fontsize='large')\n",
    "plt.xlabel('Epochs')\n",
    "plt.ylabel('Accuracy')\n",
    "plt.title('Epochs vs Accuracy plot')\n",
    "plt.show()"
   ]
  },
  {
   "cell_type": "markdown",
   "metadata": {},
   "source": [
    "### Evaluate Network on Negative test images"
   ]
  },
  {
   "cell_type": "code",
   "execution_count": 50,
   "metadata": {
    "ExecuteTime": {
     "end_time": "2019-04-08T04:06:23.857235Z",
     "start_time": "2019-04-08T04:06:21.084942Z"
    }
   },
   "outputs": [
    {
     "name": "stderr",
     "output_type": "stream",
     "text": [
      "C:\\Anaconda3\\envs\\rnn\\lib\\site-packages\\ipykernel_launcher.py:27: UserWarning: Implicit dimension choice for softmax has been deprecated. Change the call to include dim=X as an argument.\n"
     ]
    },
    {
     "name": "stdout",
     "output_type": "stream",
     "text": [
      "Final Accuracy of the network on negative test images is: 98.92%\n"
     ]
    }
   ],
   "source": [
    "correct = 0\n",
    "total = 0\n",
    "net = net.cpu()\n",
    "with torch.no_grad():\n",
    "    for (images, labels) in testloader:\n",
    "        new_images = torch.empty(images.shape)\n",
    "        for i,img in enumerate(images):\n",
    "            new_images[i] = 1 - img\n",
    "        outputs = net(new_images)\n",
    "        _, predicted = torch.max(outputs.data, 1)\n",
    "        total += labels.size(0)\n",
    "        correct += (predicted == labels).sum().item()\n",
    "\n",
    "print(f'Final Accuracy of the network on negative test images is: {(correct/total)*100:.2f}%')"
   ]
  }
 ],
 "metadata": {
  "kernelspec": {
   "display_name": "Python 3",
   "language": "python",
   "name": "python3"
  },
  "language_info": {
   "codemirror_mode": {
    "name": "ipython",
    "version": 3
   },
   "file_extension": ".py",
   "mimetype": "text/x-python",
   "name": "python",
   "nbconvert_exporter": "python",
   "pygments_lexer": "ipython3",
   "version": "3.7.3"
  },
  "varInspector": {
   "cols": {
    "lenName": 16,
    "lenType": 16,
    "lenVar": 40
   },
   "kernels_config": {
    "python": {
     "delete_cmd_postfix": "",
     "delete_cmd_prefix": "del ",
     "library": "var_list.py",
     "varRefreshCmd": "print(var_dic_list())"
    },
    "r": {
     "delete_cmd_postfix": ") ",
     "delete_cmd_prefix": "rm(",
     "library": "var_list.r",
     "varRefreshCmd": "cat(var_dic_list()) "
    }
   },
   "types_to_exclude": [
    "module",
    "function",
    "builtin_function_or_method",
    "instance",
    "_Feature"
   ],
   "window_display": false
  }
 },
 "nbformat": 4,
 "nbformat_minor": 2
}
